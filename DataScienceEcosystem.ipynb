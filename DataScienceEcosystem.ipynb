{
 "cells": [
  {
   "cell_type": "markdown",
   "id": "3cdec60e-ff47-4a36-92ea-942c1ed77482",
   "metadata": {},
   "source": [
    "# Dtata science tools and echosystem"
   ]
  },
  {
   "cell_type": "markdown",
   "id": "87fac86b",
   "metadata": {},
   "source": [
    "In this notebook, Data Science Tools and Ecosystem are summarized."
   ]
  },
  {
   "cell_type": "markdown",
   "id": "2ae80564",
   "metadata": {},
   "source": [
    "some of the most popular languages that data scientists uses are\n",
    "\n",
    "1. python\n",
    "2. R\n",
    "3. SQL\n",
    "4. C++\n",
    "5. JAVA etc..;"
   ]
  },
  {
   "cell_type": "markdown",
   "id": "4cb95b28",
   "metadata": {},
   "source": [
    "some of the most commanly used libraries used in data science are.....\n",
    "\n",
    "1. Tensorflow\n",
    "2. Numpy\n",
    "3. Scipy\n",
    "4. Pandas\n",
    "5. Matplotlib\n",
    "6. keras\n",
    "7. pytorch.etc...;"
   ]
  },
  {
   "cell_type": "markdown",
   "id": "fbbc4efe",
   "metadata": {},
   "source": [
    "|Data science tools|\n",
    "|---|\n",
    "|SAS|\n",
    "|Apache Headoop|\n",
    "|TensorFlow|"
   ]
  },
  {
   "cell_type": "code",
   "execution_count": null,
   "id": "883bfb6d",
   "metadata": {},
   "outputs": [],
   "source": [
    "### Below are the few examples of evaluating the arithematic expressions in python."
   ]
  },
  {
   "cell_type": "code",
   "execution_count": 1,
   "id": "64265e11",
   "metadata": {},
   "outputs": [
    {
     "data": {
      "text/plain": [
       "17"
      ]
     },
     "execution_count": 1,
     "metadata": {},
     "output_type": "execute_result"
    }
   ],
   "source": [
    "#This is a common arithematic example to multiply and then add integers.\n",
    "\n",
    "(3*4)+5"
   ]
  },
  {
   "cell_type": "code",
   "execution_count": 2,
   "id": "047960f9",
   "metadata": {},
   "outputs": [
    {
     "data": {
      "text/plain": [
       "3.3333333333333335"
      ]
     },
     "execution_count": 2,
     "metadata": {},
     "output_type": "execute_result"
    }
   ],
   "source": [
    "# This will convert 200 minutes to hours by dividing by 60.\n",
    "\n",
    "200/60"
   ]
  },
  {
   "cell_type": "markdown",
   "id": "125d2973",
   "metadata": {},
   "source": [
    "# Objectives\n",
    "\n",
    "* List popular languages for data science.\n",
    "\n",
    "* List popular libraries for data science.\n",
    "\n",
    "* List of well known data science tools.\n",
    "\n",
    "* How to provide the comments in the cell."
   ]
  },
  {
   "cell_type": "markdown",
   "id": "7e5cb466",
   "metadata": {},
   "source": [
    "# Author\n",
    "\n",
    "Israr khan\n"
   ]
  },
  {
   "cell_type": "code",
   "execution_count": null,
   "id": "2c1dbf3a",
   "metadata": {},
   "outputs": [],
   "source": []
  }
 ],
 "metadata": {
  "kernelspec": {
   "display_name": "Python 3 (ipykernel)",
   "language": "python",
   "name": "python3"
  },
  "language_info": {
   "codemirror_mode": {
    "name": "ipython",
    "version": 3
   },
   "file_extension": ".py",
   "mimetype": "text/x-python",
   "name": "python",
   "nbconvert_exporter": "python",
   "pygments_lexer": "ipython3",
   "version": "3.11.4"
  }
 },
 "nbformat": 4,
 "nbformat_minor": 5
}
